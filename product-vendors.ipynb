{
 "cells": [
  {
   "cell_type": "markdown",
   "id": "164a4ab2",
   "metadata": {},
   "source": [
    "### Populate products and vendors:"
   ]
  },
  {
   "cell_type": "code",
   "execution_count": 1,
   "id": "21133a61",
   "metadata": {},
   "outputs": [],
   "source": [
    "# Write to txt file"
   ]
  }
 ],
 "metadata": {
  "kernelspec": {
   "display_name": "Python 3 (ipykernel)",
   "language": "python",
   "name": "python3"
  },
  "language_info": {
   "codemirror_mode": {
    "name": "ipython",
    "version": 3
   },
   "file_extension": ".py",
   "mimetype": "text/x-python",
   "name": "python",
   "nbconvert_exporter": "python",
   "pygments_lexer": "ipython3",
   "version": "3.9.6"
  }
 },
 "nbformat": 4,
 "nbformat_minor": 5
}

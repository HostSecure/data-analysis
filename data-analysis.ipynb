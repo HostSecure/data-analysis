{
 "cells": [
  {
   "cell_type": "markdown",
   "id": "2834fbf3",
   "metadata": {},
   "source": [
    "# HostSecure IDS - Data analysis:"
   ]
  },
  {
   "cell_type": "markdown",
   "id": "c4865384",
   "metadata": {},
   "source": [
    "### Install prerequisites:"
   ]
  },
  {
   "cell_type": "code",
   "execution_count": 44,
   "id": "824ee88c",
   "metadata": {},
   "outputs": [],
   "source": [
    "import sqlite3\n",
    "import pandas as pd"
   ]
  },
  {
   "cell_type": "markdown",
   "id": "2a7b1fad",
   "metadata": {},
   "source": [
    "### Connect to SQLite database:"
   ]
  },
  {
   "cell_type": "code",
   "execution_count": 47,
   "id": "b529c746",
   "metadata": {},
   "outputs": [],
   "source": [
    "con = sqlite3.connect('hostsecure.db')\n",
    "cur = con.cursor()"
   ]
  },
  {
   "cell_type": "markdown",
   "id": "75049630",
   "metadata": {},
   "source": [
    "### View all endpoints:"
   ]
  },
  {
   "cell_type": "code",
   "execution_count": 180,
   "id": "42cd548e",
   "metadata": {},
   "outputs": [
    {
     "data": {
      "text/html": [
       "<div>\n",
       "<style scoped>\n",
       "    .dataframe tbody tr th:only-of-type {\n",
       "        vertical-align: middle;\n",
       "    }\n",
       "\n",
       "    .dataframe tbody tr th {\n",
       "        vertical-align: top;\n",
       "    }\n",
       "\n",
       "    .dataframe thead th {\n",
       "        text-align: right;\n",
       "    }\n",
       "</style>\n",
       "<table border=\"1\" class=\"dataframe\">\n",
       "  <thead>\n",
       "    <tr style=\"text-align: right;\">\n",
       "      <th></th>\n",
       "      <th>Mac address</th>\n",
       "      <th>Last heartbeat</th>\n",
       "      <th>Online</th>\n",
       "    </tr>\n",
       "  </thead>\n",
       "  <tbody>\n",
       "    <tr>\n",
       "      <th>0</th>\n",
       "      <td>ABCD</td>\n",
       "      <td></td>\n",
       "      <td>No</td>\n",
       "    </tr>\n",
       "    <tr>\n",
       "      <th>1</th>\n",
       "      <td>EFGH</td>\n",
       "      <td>2011-04-15 17:33:04.372</td>\n",
       "      <td>No</td>\n",
       "    </tr>\n",
       "    <tr>\n",
       "      <th>2</th>\n",
       "      <td>IJKL</td>\n",
       "      <td>2016-04-16 07:36:03.988</td>\n",
       "      <td>Yes</td>\n",
       "    </tr>\n",
       "  </tbody>\n",
       "</table>\n",
       "</div>"
      ],
      "text/plain": [
       "  Mac address           Last heartbeat Online\n",
       "0        ABCD                              No\n",
       "1        EFGH  2011-04-15 17:33:04.372     No\n",
       "2        IJKL  2016-04-16 07:36:03.988    Yes"
      ]
     },
     "execution_count": 180,
     "metadata": {},
     "output_type": "execute_result"
    }
   ],
   "source": [
    "# Read sqlite query results into a pandas DataFrame\n",
    "df = pd.read_sql_query(\"\\\n",
    "    SELECT \\\n",
    "    macaddress AS 'Mac address', \\\n",
    "    lastheartbeat AS 'Last heartbeat', \\\n",
    "    (CASE WHEN isonline = 1 THEN 'Yes' ELSE 'No' END) AS Online \\\n",
    "    FROM edgenode\", con)\n",
    "\n",
    "# Verify that result of SQL query is stored in the dataframe\n",
    "df"
   ]
  },
  {
   "cell_type": "markdown",
   "id": "1856986e",
   "metadata": {},
   "source": [
    "### View all virus hashes:"
   ]
  },
  {
   "cell_type": "code",
   "execution_count": 98,
   "id": "54b92d39",
   "metadata": {},
   "outputs": [
    {
     "data": {
      "text/html": [
       "<div>\n",
       "<style scoped>\n",
       "    .dataframe tbody tr th:only-of-type {\n",
       "        vertical-align: middle;\n",
       "    }\n",
       "\n",
       "    .dataframe tbody tr th {\n",
       "        vertical-align: top;\n",
       "    }\n",
       "\n",
       "    .dataframe thead th {\n",
       "        text-align: right;\n",
       "    }\n",
       "</style>\n",
       "<table border=\"1\" class=\"dataframe\">\n",
       "  <thead>\n",
       "    <tr style=\"text-align: right;\">\n",
       "      <th></th>\n",
       "      <th>Hash key</th>\n",
       "      <th>Description</th>\n",
       "    </tr>\n",
       "  </thead>\n",
       "  <tbody>\n",
       "    <tr>\n",
       "      <th>0</th>\n",
       "      <td>UVUUNNU</td>\n",
       "      <td>Totally</td>\n",
       "    </tr>\n",
       "    <tr>\n",
       "      <th>1</th>\n",
       "      <td>YUCWZXB</td>\n",
       "      <td>not a</td>\n",
       "    </tr>\n",
       "    <tr>\n",
       "      <th>2</th>\n",
       "      <td>OPMIMOIBTV</td>\n",
       "      <td>virus</td>\n",
       "    </tr>\n",
       "  </tbody>\n",
       "</table>\n",
       "</div>"
      ],
      "text/plain": [
       "     Hash key Description\n",
       "0     UVUUNNU     Totally\n",
       "1     YUCWZXB       not a\n",
       "2  OPMIMOIBTV       virus"
      ]
     },
     "execution_count": 98,
     "metadata": {},
     "output_type": "execute_result"
    }
   ],
   "source": [
    "# Read sqlite query results into a pandas DataFrame\n",
    "df = pd.read_sql_query(\"\\\n",
    "    SELECT \\\n",
    "    hashkey AS 'Hash key', \\\n",
    "    description AS 'Description' \\\n",
    "    FROM virushash\", con)\n",
    "\n",
    "# Verify that result of SQL query is stored in the dataframe\n",
    "df"
   ]
  },
  {
   "cell_type": "markdown",
   "id": "2b5c5d94",
   "metadata": {},
   "source": [
    "### View all devices:"
   ]
  },
  {
   "cell_type": "code",
   "execution_count": 164,
   "id": "d61eceae",
   "metadata": {},
   "outputs": [
    {
     "data": {
      "text/html": [
       "<div>\n",
       "<style scoped>\n",
       "    .dataframe tbody tr th:only-of-type {\n",
       "        vertical-align: middle;\n",
       "    }\n",
       "\n",
       "    .dataframe tbody tr th {\n",
       "        vertical-align: top;\n",
       "    }\n",
       "\n",
       "    .dataframe thead th {\n",
       "        text-align: right;\n",
       "    }\n",
       "</style>\n",
       "<table border=\"1\" class=\"dataframe\">\n",
       "  <thead>\n",
       "    <tr style=\"text-align: right;\">\n",
       "      <th></th>\n",
       "      <th>ID</th>\n",
       "      <th>Product ID</th>\n",
       "      <th>Vendor ID</th>\n",
       "      <th>Serial number</th>\n",
       "      <th>Status</th>\n",
       "    </tr>\n",
       "  </thead>\n",
       "  <tbody>\n",
       "    <tr>\n",
       "      <th>0</th>\n",
       "      <td>1</td>\n",
       "      <td>QWER</td>\n",
       "      <td>DCBA</td>\n",
       "      <td>1000</td>\n",
       "      <td>Blacklist</td>\n",
       "    </tr>\n",
       "    <tr>\n",
       "      <th>1</th>\n",
       "      <td>2</td>\n",
       "      <td>TYUI</td>\n",
       "      <td>HGFE</td>\n",
       "      <td>1001</td>\n",
       "      <td>Unknown</td>\n",
       "    </tr>\n",
       "    <tr>\n",
       "      <th>2</th>\n",
       "      <td>3</td>\n",
       "      <td>ASDF</td>\n",
       "      <td>LKJI</td>\n",
       "      <td>1002</td>\n",
       "      <td>Unknown</td>\n",
       "    </tr>\n",
       "  </tbody>\n",
       "</table>\n",
       "</div>"
      ],
      "text/plain": [
       "   ID Product ID Vendor ID Serial number     Status\n",
       "0   1       QWER      DCBA          1000  Blacklist\n",
       "1   2       TYUI      HGFE          1001    Unknown\n",
       "2   3       ASDF      LKJI          1002    Unknown"
      ]
     },
     "execution_count": 164,
     "metadata": {},
     "output_type": "execute_result"
    }
   ],
   "source": [
    "# Read sqlite query results into a pandas DataFrame\n",
    "df = pd.read_sql_query(\"\\\n",
    "    SELECT \\\n",
    "    id as ID, \\\n",
    "    productid AS 'Product ID', \\\n",
    "    vendorid AS 'Vendor ID', \\\n",
    "    serialnumber AS 'Serial number', \\\n",
    "    (CASE \\\n",
    "       WHEN status = 'B' THEN 'Blacklist' \\\n",
    "       WHEN status = 'W' THEN 'Whitelist' \\\n",
    "       ELSE 'Unknown' END) AS Status \\\n",
    "    FROM device\", con)\n",
    "\n",
    "# Verify that result of SQL query is stored in the dataframe\n",
    "df"
   ]
  },
  {
   "cell_type": "markdown",
   "id": "4fc9d127",
   "metadata": {},
   "source": [
    "### View all logs:"
   ]
  },
  {
   "cell_type": "code",
   "execution_count": 170,
   "id": "e42a7621",
   "metadata": {},
   "outputs": [
    {
     "data": {
      "text/html": [
       "<div>\n",
       "<style scoped>\n",
       "    .dataframe tbody tr th:only-of-type {\n",
       "        vertical-align: middle;\n",
       "    }\n",
       "\n",
       "    .dataframe tbody tr th {\n",
       "        vertical-align: top;\n",
       "    }\n",
       "\n",
       "    .dataframe thead th {\n",
       "        text-align: right;\n",
       "    }\n",
       "</style>\n",
       "<table border=\"1\" class=\"dataframe\">\n",
       "  <thead>\n",
       "    <tr style=\"text-align: right;\">\n",
       "      <th></th>\n",
       "      <th>Endpoint MAC address</th>\n",
       "      <th>Device ID</th>\n",
       "      <th>Time</th>\n",
       "      <th>Log</th>\n",
       "    </tr>\n",
       "  </thead>\n",
       "  <tbody>\n",
       "    <tr>\n",
       "      <th>0</th>\n",
       "      <td>ABCD</td>\n",
       "      <td>3</td>\n",
       "      <td>2021:09:09 22:36:00:000</td>\n",
       "      <td>Number 0</td>\n",
       "    </tr>\n",
       "    <tr>\n",
       "      <th>1</th>\n",
       "      <td>EFGH</td>\n",
       "      <td>1</td>\n",
       "      <td>2021:09:09 22:36:00:001</td>\n",
       "      <td>Number 1</td>\n",
       "    </tr>\n",
       "    <tr>\n",
       "      <th>2</th>\n",
       "      <td>IJKL</td>\n",
       "      <td>2</td>\n",
       "      <td>2021:09:09 22:36:00:002</td>\n",
       "      <td>Number 2</td>\n",
       "    </tr>\n",
       "  </tbody>\n",
       "</table>\n",
       "</div>"
      ],
      "text/plain": [
       "  Endpoint MAC address  Device ID                     Time       Log\n",
       "0                 ABCD          3  2021:09:09 22:36:00:000  Number 0\n",
       "1                 EFGH          1  2021:09:09 22:36:00:001  Number 1\n",
       "2                 IJKL          2  2021:09:09 22:36:00:002  Number 2"
      ]
     },
     "execution_count": 170,
     "metadata": {},
     "output_type": "execute_result"
    }
   ],
   "source": [
    "# Read sqlite query results into a pandas DataFrame\n",
    "df = pd.read_sql_query(\"\\\n",
    "    SELECT \\\n",
    "    edgenodemacaddress AS 'Endpoint MAC address', \\\n",
    "    deviceid AS 'Device ID', \\\n",
    "    logtime AS 'Time', \\\n",
    "    loginfo AS 'Log' \\\n",
    "    FROM log\", con)\n",
    "\n",
    "# Verify that result of SQL query is stored in the dataframe\n",
    "df"
   ]
  },
  {
   "cell_type": "markdown",
   "id": "7fed0d71",
   "metadata": {},
   "source": [
    "### Product/vendor overview:"
   ]
  },
  {
   "cell_type": "code",
   "execution_count": 172,
   "id": "ac5d0152",
   "metadata": {},
   "outputs": [
    {
     "data": {
      "text/html": [
       "<div>\n",
       "<style scoped>\n",
       "    .dataframe tbody tr th:only-of-type {\n",
       "        vertical-align: middle;\n",
       "    }\n",
       "\n",
       "    .dataframe tbody tr th {\n",
       "        vertical-align: top;\n",
       "    }\n",
       "\n",
       "    .dataframe thead th {\n",
       "        text-align: right;\n",
       "    }\n",
       "</style>\n",
       "<table border=\"1\" class=\"dataframe\">\n",
       "  <thead>\n",
       "    <tr style=\"text-align: right;\">\n",
       "      <th></th>\n",
       "      <th>Product ID</th>\n",
       "      <th>Vendor ID</th>\n",
       "      <th>Product name</th>\n",
       "      <th>Vendor name</th>\n",
       "    </tr>\n",
       "  </thead>\n",
       "  <tbody>\n",
       "    <tr>\n",
       "      <th>0</th>\n",
       "      <td>QWER</td>\n",
       "      <td>DCBA</td>\n",
       "      <td>Make</td>\n",
       "      <td>Sabaton</td>\n",
       "    </tr>\n",
       "    <tr>\n",
       "      <th>1</th>\n",
       "      <td>TYUI</td>\n",
       "      <td>HGFE</td>\n",
       "      <td>Pepsi Twist</td>\n",
       "      <td>Babymetal</td>\n",
       "    </tr>\n",
       "    <tr>\n",
       "      <th>2</th>\n",
       "      <td>ASDF</td>\n",
       "      <td>LKJI</td>\n",
       "      <td>Again</td>\n",
       "      <td>Nightwish</td>\n",
       "    </tr>\n",
       "  </tbody>\n",
       "</table>\n",
       "</div>"
      ],
      "text/plain": [
       "  Product ID Vendor ID Product name Vendor name\n",
       "0       QWER      DCBA         Make     Sabaton\n",
       "1       TYUI      HGFE  Pepsi Twist   Babymetal\n",
       "2       ASDF      LKJI        Again   Nightwish"
      ]
     },
     "execution_count": 172,
     "metadata": {},
     "output_type": "execute_result"
    }
   ],
   "source": [
    "# Read sqlite query results into a pandas DataFrame\n",
    "df = pd.read_sql_query(\"\\\n",
    "    SELECT \\\n",
    "    productid AS 'Product ID', \\\n",
    "    vendorid AS 'Vendor ID', \\\n",
    "    productname AS 'Product name', \\\n",
    "    vendorname AS 'Vendor name' \\\n",
    "    FROM productvendor\", con)\n",
    "\n",
    "# Verify that result of SQL query is stored in the dataframe\n",
    "df"
   ]
  },
  {
   "cell_type": "markdown",
   "id": "43881159",
   "metadata": {},
   "source": [
    "### Close database connection:"
   ]
  },
  {
   "cell_type": "code",
   "execution_count": 181,
   "id": "5ed14aec",
   "metadata": {},
   "outputs": [],
   "source": [
    "con.close()"
   ]
  }
 ],
 "metadata": {
  "kernelspec": {
   "display_name": "Python 3 (ipykernel)",
   "language": "python",
   "name": "python3"
  },
  "language_info": {
   "codemirror_mode": {
    "name": "ipython",
    "version": 3
   },
   "file_extension": ".py",
   "mimetype": "text/x-python",
   "name": "python",
   "nbconvert_exporter": "python",
   "pygments_lexer": "ipython3",
   "version": "3.9.6"
  }
 },
 "nbformat": 4,
 "nbformat_minor": 5
}

{
 "cells": [
  {
   "cell_type": "markdown",
   "id": "2834fbf3",
   "metadata": {},
   "source": [
    "# Data analysis - HostSecure IDS"
   ]
  },
  {
   "cell_type": "markdown",
   "id": "c4865384",
   "metadata": {},
   "source": [
    "### Install prerequisites:"
   ]
  },
  {
   "cell_type": "code",
   "execution_count": 44,
   "id": "824ee88c",
   "metadata": {},
   "outputs": [],
   "source": [
    "import sqlite3\n",
    "import pandas as pd"
   ]
  },
  {
   "cell_type": "markdown",
   "id": "2a7b1fad",
   "metadata": {},
   "source": [
    "### View suspicious endpoint connections (based on time):\n",
    "Normal working hours: 09:00 - 16:00 (monday to friday)"
   ]
  },
  {
   "cell_type": "code",
   "execution_count": 47,
   "id": "b529c746",
   "metadata": {},
   "outputs": [],
   "source": [
    "# Future work/improvements"
   ]
  },
  {
   "cell_type": "markdown",
   "id": "57a21d2d",
   "metadata": {},
   "source": [
    "### View suspicious and blacklisted USB devices:"
   ]
  },
  {
   "cell_type": "code",
   "execution_count": null,
   "id": "4afda7a5",
   "metadata": {},
   "outputs": [],
   "source": [
    "# Future work/improvements"
   ]
  },
  {
   "cell_type": "markdown",
   "id": "a0049578",
   "metadata": {},
   "source": [
    "### Suspect a new network port (based on suspicious activity):"
   ]
  },
  {
   "cell_type": "code",
   "execution_count": null,
   "id": "35b0d8f2",
   "metadata": {},
   "outputs": [],
   "source": [
    "# Future work/improvements"
   ]
  },
  {
   "cell_type": "markdown",
   "id": "43881159",
   "metadata": {},
   "source": [
    "### Close database connection:"
   ]
  },
  {
   "cell_type": "code",
   "execution_count": 181,
   "id": "5ed14aec",
   "metadata": {},
   "outputs": [],
   "source": [
    "con.close()"
   ]
  }
 ],
 "metadata": {
  "kernelspec": {
   "display_name": "Python 3 (ipykernel)",
   "language": "python",
   "name": "python3"
  },
  "language_info": {
   "codemirror_mode": {
    "name": "ipython",
    "version": 3
   },
   "file_extension": ".py",
   "mimetype": "text/x-python",
   "name": "python",
   "nbconvert_exporter": "python",
   "pygments_lexer": "ipython3",
   "version": "3.9.6"
  }
 },
 "nbformat": 4,
 "nbformat_minor": 5
}

{
 "cells": [
  {
   "cell_type": "markdown",
   "id": "2834fbf3",
   "metadata": {},
   "source": [
    "# HostSecure IDS - Data analysis:"
   ]
  },
  {
   "cell_type": "markdown",
   "id": "c4865384",
   "metadata": {},
   "source": [
    "### Install prerequisites:"
   ]
  },
  {
   "cell_type": "code",
   "execution_count": 9,
   "id": "824ee88c",
   "metadata": {},
   "outputs": [],
   "source": [
    "import sqlite3\n",
    "con = sqlite3.connect('example.db')"
   ]
  },
  {
   "cell_type": "markdown",
   "id": "2a7b1fad",
   "metadata": {},
   "source": [
    "### Test SQLite connection:"
   ]
  },
  {
   "cell_type": "code",
   "execution_count": 18,
   "id": "042a247e",
   "metadata": {},
   "outputs": [
    {
     "ename": "OperationalError",
     "evalue": "table stocks already exists",
     "output_type": "error",
     "traceback": [
      "\u001b[0;31m---------------------------------------------------------------------------\u001b[0m",
      "\u001b[0;31mOperationalError\u001b[0m                          Traceback (most recent call last)",
      "\u001b[0;32m/var/folders/r1/j0tr5sxx0t19z5yqwkg79c1c0000gn/T/ipykernel_9145/3611567032.py\u001b[0m in \u001b[0;36m<module>\u001b[0;34m\u001b[0m\n\u001b[1;32m      2\u001b[0m \u001b[0;34m\u001b[0m\u001b[0m\n\u001b[1;32m      3\u001b[0m \u001b[0;31m# Create table\u001b[0m\u001b[0;34m\u001b[0m\u001b[0;34m\u001b[0m\u001b[0;34m\u001b[0m\u001b[0m\n\u001b[0;32m----> 4\u001b[0;31m cur.execute('''CREATE TABLE stocks\n\u001b[0m\u001b[1;32m      5\u001b[0m                (date text, trans text, symbol text, qty real, price real)''')\n\u001b[1;32m      6\u001b[0m \u001b[0;34m\u001b[0m\u001b[0m\n",
      "\u001b[0;31mOperationalError\u001b[0m: table stocks already exists"
     ]
    }
   ],
   "source": [
    "cur = con.cursor()\n",
    "\n",
    "# Create table\n",
    "cur.execute('''CREATE TABLE stocks\n",
    "               (date text, trans text, symbol text, qty real, price real)''')\n",
    "\n",
    "# Insert a row of data\n",
    "cur.execute(\"INSERT INTO stocks VALUES ('2006-01-05','BUY','RHAT',100,35.14)\")\n",
    "\n",
    "# Save (commit) the changes\n",
    "con.commit()\n",
    "\n",
    "# We can also close the connection if we are done with it.\n",
    "# Just be sure any changes have been committed or they will be lost.\n",
    "con.close()"
   ]
  },
  {
   "cell_type": "code",
   "execution_count": 14,
   "id": "b529c746",
   "metadata": {},
   "outputs": [],
   "source": [
    "con = sqlite3.connect('example.db')\n",
    "cur = con.cursor()"
   ]
  },
  {
   "cell_type": "code",
   "execution_count": 15,
   "id": "d3c26cb2",
   "metadata": {},
   "outputs": [
    {
     "name": "stdout",
     "output_type": "stream",
     "text": [
      "('2006-01-05', 'BUY', 'RHAT', 100.0, 35.14)\n"
     ]
    }
   ],
   "source": [
    "for row in cur.execute('SELECT * FROM stocks ORDER BY price'):\n",
    "        print(row)"
   ]
  }
 ],
 "metadata": {
  "kernelspec": {
   "display_name": "Python 3 (ipykernel)",
   "language": "python",
   "name": "python3"
  },
  "language_info": {
   "codemirror_mode": {
    "name": "ipython",
    "version": 3
   },
   "file_extension": ".py",
   "mimetype": "text/x-python",
   "name": "python",
   "nbconvert_exporter": "python",
   "pygments_lexer": "ipython3",
   "version": "3.9.6"
  }
 },
 "nbformat": 4,
 "nbformat_minor": 5
}
